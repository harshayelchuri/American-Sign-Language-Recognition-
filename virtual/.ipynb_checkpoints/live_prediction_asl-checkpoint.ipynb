{
 "cells": [
  {
   "cell_type": "code",
   "execution_count": 1,
   "metadata": {},
   "outputs": [
    {
     "ename": "FileNotFoundError",
     "evalue": "[Errno 2] No such file or directory: 'classes.txt'",
     "output_type": "error",
     "traceback": [
      "\u001b[1;31m---------------------------------------------------------------------------\u001b[0m",
      "\u001b[1;31mFileNotFoundError\u001b[0m                         Traceback (most recent call last)",
      "\u001b[1;32m<ipython-input-1-b0d0a9da85ed>\u001b[0m in \u001b[0;36m<module>\u001b[1;34m\u001b[0m\n\u001b[0;32m     17\u001b[0m \u001b[1;33m\u001b[0m\u001b[0m\n\u001b[0;32m     18\u001b[0m \u001b[1;31m# Creating list of available classes stored in classes.txt.\u001b[0m\u001b[1;33m\u001b[0m\u001b[1;33m\u001b[0m\u001b[1;33m\u001b[0m\u001b[0m\n\u001b[1;32m---> 19\u001b[1;33m \u001b[0mclasses_file\u001b[0m \u001b[1;33m=\u001b[0m \u001b[0mopen\u001b[0m\u001b[1;33m(\u001b[0m\u001b[1;34m\"classes.txt\"\u001b[0m\u001b[1;33m)\u001b[0m\u001b[1;33m\u001b[0m\u001b[1;33m\u001b[0m\u001b[0m\n\u001b[0m\u001b[0;32m     20\u001b[0m \u001b[0mclasses_string\u001b[0m \u001b[1;33m=\u001b[0m \u001b[0mclasses_file\u001b[0m\u001b[1;33m.\u001b[0m\u001b[0mreadline\u001b[0m\u001b[1;33m(\u001b[0m\u001b[1;33m)\u001b[0m\u001b[1;33m\u001b[0m\u001b[1;33m\u001b[0m\u001b[0m\n\u001b[0;32m     21\u001b[0m \u001b[0mclasses\u001b[0m \u001b[1;33m=\u001b[0m \u001b[0mclasses_string\u001b[0m\u001b[1;33m.\u001b[0m\u001b[0msplit\u001b[0m\u001b[1;33m(\u001b[0m\u001b[1;33m)\u001b[0m\u001b[1;33m\u001b[0m\u001b[1;33m\u001b[0m\u001b[0m\n",
      "\u001b[1;31mFileNotFoundError\u001b[0m: [Errno 2] No such file or directory: 'classes.txt'"
     ]
    }
   ],
   "source": [
    "import cv2\n",
    "import numpy as np\n",
    "\n",
    "from tensorflow.keras.models import load_model\n",
    "from tensorflow.keras.preprocessing.image import ImageDataGenerator\n",
    "\n",
    "# Prepare data generator for standardizing frames before sending them into the model.\n",
    "data_generator = ImageDataGenerator(samplewise_center=True, samplewise_std_normalization=True)\n",
    "\n",
    "# Loading the model.\n",
    "MODEL_NAME = 'asl.h5'\n",
    "model = load_model(MODEL_NAME)\n",
    "\n",
    "# Setting up the input image size and frame crop size.\n",
    "IMAGE_SIZE = 200\n",
    "CROP_SIZE = 400\n",
    "\n",
    "# Creating list of available classes stored in classes.txt.\n",
    "classes_file = open(\"classes.txt\")\n",
    "classes_string = classes_file.readline()\n",
    "classes = classes_string.split()\n",
    "classes.sort()  # The predict function sends out output in sorted order.\n",
    "\n",
    "# Preparing cv2 for webcam feed\n",
    "cap = cv2.VideoCapture(0)\n",
    "\n",
    "while(True):\n",
    "    # Capture frame-by-frame.\n",
    "    ret, frame = cap.read()\n",
    "\n",
    "    # Target area where the hand gestures should be.\n",
    "    cv2.rectangle(frame, (0, 0), (CROP_SIZE, CROP_SIZE), (0, 255, 0), 3)\n",
    "    \n",
    "    # Preprocessing the frame before input to the model.\n",
    "    cropped_image = frame[0:CROP_SIZE, 0:CROP_SIZE]\n",
    "    resized_frame = cv2.resize(cropped_image, (IMAGE_SIZE, IMAGE_SIZE))\n",
    "    reshaped_frame = (np.array(resized_frame)).reshape((1, IMAGE_SIZE, IMAGE_SIZE, 3))\n",
    "    frame_for_model = data_generator.standardize(np.float64(reshaped_frame))\n",
    "\n",
    "    # Predicting the frame.\n",
    "    prediction = np.array(model.predict(frame_for_model))\n",
    "    predicted_class = classes[prediction.argmax()]      # Selecting the max confidence index.\n",
    "\n",
    "    # Preparing output based on the model's confidence.\n",
    "    prediction_probability = prediction[0, prediction.argmax()]\n",
    "    if prediction_probability > 0.5:\n",
    "        # High confidence.\n",
    "        cv2.putText(frame, '{} - {:.2f}%'.format(predicted_class, prediction_probability * 100), \n",
    "                                    (10, 450), 1, 2, (255, 255, 0), 2, cv2.LINE_AA)\n",
    "    elif prediction_probability > 0.2 and prediction_probability <= 0.5:\n",
    "        # Low confidence.\n",
    "        cv2.putText(frame, 'Maybe {}... - {:.2f}%'.format(predicted_class, prediction_probability * 100), \n",
    "                                    (10, 450), 1, 2, (0, 255, 255), 2, cv2.LINE_AA)\n",
    "    else:\n",
    "        # No confidence.\n",
    "        cv2.putText(frame, classes[-2], (10, 450), 1, 2, (255, 255, 0), 2, cv2.LINE_AA)\n",
    "\n",
    "    # Display the image with prediction.\n",
    "    cv2.imshow('frame', frame)\n",
    "\n",
    "    # Press q to quit\n",
    "    k = cv2.waitKey(1) & 0xFF\n",
    "    if k == ord('q'):\n",
    "        break\n",
    "\n",
    "# When everything done, release the capture.\n",
    "cap.release()\n",
    "cv2.destroyAllWindows()"
   ]
  },
  {
   "cell_type": "code",
   "execution_count": null,
   "metadata": {},
   "outputs": [],
   "source": []
  }
 ],
 "metadata": {
  "kernelspec": {
   "display_name": "Python 3",
   "language": "python",
   "name": "python3"
  },
  "language_info": {
   "codemirror_mode": {
    "name": "ipython",
    "version": 3
   },
   "file_extension": ".py",
   "mimetype": "text/x-python",
   "name": "python",
   "nbconvert_exporter": "python",
   "pygments_lexer": "ipython3",
   "version": "3.8.3"
  }
 },
 "nbformat": 4,
 "nbformat_minor": 5
}
